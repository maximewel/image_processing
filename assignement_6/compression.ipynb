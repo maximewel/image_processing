{
 "cells": [
  {
   "cell_type": "markdown",
   "metadata": {},
   "source": [
    "# Task: Image compression\n",
    "Analyze the three images present on ILIAS to decide which compression strategy is\n",
    "the most promising one. Below, we suggest two such strategies, namely 2D run-length\n",
    "encoding and quadtree representation. Choose one of them, or yet another strategy of\n",
    "your own design. Regardless of the compression method you choose, write an algorithm\n",
    "to decompress the image back to the original image."
   ]
  },
  {
   "cell_type": "code",
   "execution_count": 17,
   "metadata": {},
   "outputs": [],
   "source": [
    "#Imports\n",
    "from __future__ import annotations\n",
    "\n",
    "import cv2\n",
    "import numpy as np\n",
    "import matplotlib.pyplot as plt"
   ]
  },
  {
   "cell_type": "markdown",
   "metadata": {},
   "source": []
  },
  {
   "cell_type": "code",
   "execution_count": 18,
   "metadata": {},
   "outputs": [],
   "source": [
    "from cv2 import Mat\n",
    "\n",
    "class QuadTree:\n",
    "    image: Mat\n",
    "    root_partitions: list[QuadTreeNode]\n",
    "\n",
    "    def __init__(self, image: Mat) -> None:\n",
    "        self.image = image\n",
    "        self.root_partitions = []\n",
    "\n",
    "    def build_quad(self, roots_shape: tuple):\n",
    "        image_width, image_height, _ = self.image.shape\n",
    "        root_w, root_h = roots_shape\n",
    "\n",
    "        if image_width % root_w != 0:\n",
    "            raise Exception(f\"Can not partition image with width {image_width} by partition of width {root_w}\")\n",
    "        if image_height % root_h != 0:\n",
    "            raise Exception(f\"Can not partition image with height {image_height} by partition of height {root_h}\")\n",
    "        \n",
    "        for x in range(0, image_width, root_w):\n",
    "            for y in range(0, image_height, root_h):\n",
    "                image_partition = self.image[x:x+root_w-1, y:y+root_h-1]\n",
    "                self.root_partitions.append(QuadTreeNode(image_partition))\n",
    "\n",
    "class QuadTreeNode:\n",
    "    children: list[QuadTreeNode] | None\n",
    "    image_partition: Mat\n",
    "\n",
    "    def __init__(self, image_partition: Mat) -> None:\n",
    "        self.image_partition = Mat\n",
    "\n",
    "    def _build(self) -> None:\n",
    "        \"\"\"Build the node recursively, create new nodes if necessary\"\"\""
   ]
  },
  {
   "cell_type": "markdown",
   "metadata": {},
   "source": [
    "test"
   ]
  },
  {
   "cell_type": "code",
   "execution_count": 19,
   "metadata": {},
   "outputs": [
    {
     "name": "stdout",
     "output_type": "stream",
     "text": [
      "<class 'tuple'>\n"
     ]
    }
   ],
   "source": [
    "image_name = \"page-SD3-1003.png\"\n",
    "image = cv2.imread(f'./in/{image_name}')\n",
    "\n",
    "image = cv2.cvtColor(image, cv2.COLOR_BGR2RGB)\n",
    "\n"
   ]
  }
 ],
 "metadata": {
  "kernelspec": {
   "display_name": "Python 3.10.0 ('.venv': venv)",
   "language": "python",
   "name": "python3"
  },
  "language_info": {
   "codemirror_mode": {
    "name": "ipython",
    "version": 3
   },
   "file_extension": ".py",
   "mimetype": "text/x-python",
   "name": "python",
   "nbconvert_exporter": "python",
   "pygments_lexer": "ipython3",
   "version": "3.10.0"
  },
  "orig_nbformat": 4,
  "vscode": {
   "interpreter": {
    "hash": "db6c780eb36d86338179f8be5a63e27797eb4f4f4a6e66d2c1f364ebb68475b5"
   }
  }
 },
 "nbformat": 4,
 "nbformat_minor": 2
}
